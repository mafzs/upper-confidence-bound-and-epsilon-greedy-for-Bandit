{
  "nbformat": 4,
  "nbformat_minor": 0,
  "metadata": {
    "colab": {
      "name": "bandit_UCB_Egreedy.ipynb",
      "provenance": [],
      "collapsed_sections": []
    },
    "kernelspec": {
      "name": "python3",
      "display_name": "Python 3"
    },
    "language_info": {
      "name": "python"
    }
  },
  "cells": [
    {
      "cell_type": "code",
      "execution_count": 12,
      "metadata": {
        "id": "w0NvaGRmImKp"
      },
      "outputs": [],
      "source": [
        "import matplotlib.pyplot as plt\n",
        "import numpy as np"
      ]
    },
    {
      "cell_type": "code",
      "source": [
        "class bandit:\n",
        "  def __init__(self,mu,sigma):\n",
        "    #in this case each bandit nachine generate rewards randomly gaussian distributed with mean=mu and sd=sigma\n",
        "    self.mu=mu\n",
        "    self.sigma=sigma\n",
        "    self.p_estimate=0\n",
        "    self.n=0\n",
        "  def pull(self):\n",
        "    #this function generated our random rewards\n",
        "    return np.random.normal(self.mu, self.sigma, 1)[0]\n",
        "  def update(self,x):\n",
        "    #this function update the estimated value of machine in each trial\n",
        "    self.n+=1\n",
        "    self.p_estimate=((self.n-1)*self.p_estimate+x)/self.n\n"
      ],
      "metadata": {
        "id": "V24Cip-0I87i"
      },
      "execution_count": 14,
      "outputs": []
    },
    {
      "cell_type": "code",
      "source": [
        "def experiment_epsilon_greedy(n,e):\n",
        "  #n:number of trials that we want the experiment will run\n",
        "  num_trials=n\n",
        "  #e:epsilon factor definition\n",
        "  eps=e\n",
        "  #our machines has mu=3,6,10 sigma=2,bandit init \n",
        "  bandits=[bandit(3,2),bandit(6,2),bandit(10,2)]\n",
        "  rewards=np.zeros(num_trials)\n",
        "  num_times_explored=0\n",
        "  num_times_exploited=0\n",
        "  num_optimal=0\n",
        "  #optimal_j=np.argmax([bandit.mu for bandit in bandits])\n",
        "  #print('optimal_j:' , optimal_j)\n",
        "  for i in range(num_trials):\n",
        "    if np.random.random()<eps:\n",
        "      num_times_explored+=1\n",
        "      j=np.random.randint(len(bandits))\n",
        "    else:\n",
        "      num_times_exploited+=1\n",
        "      j=np.argmax([b.p_estimate for b in bandits])\n",
        "    #if j ==optimal_j:\n",
        "      #num_optimal+=1\n",
        "    x=bandits[j].pull()\n",
        "    rewards[i]=x\n",
        "    bandits[j].update(x)\n",
        "  for b in bandits:\n",
        "    print('mean estimate ',b.p_estimate)\n",
        "  print('total reward earned:',rewards.sum())\n",
        "  print('overal win rate ',rewards.sum()/num_trials)\n",
        "  print('num time explored :',num_times_explored)\n",
        "  print('num time exploit:',num_times_exploited)\n",
        "\n",
        "  cumulative_rewards=np.cumsum(rewards)\n",
        "  win_rate=(cumulative_rewards/(np.arange(num_trials)+1))\n",
        "  plt.plot(win_rate)\n",
        "  #plt.plot(np.ones(num_trials)*np.max(bandit_prob))\n",
        "  plt.show()"
      ],
      "metadata": {
        "id": "uBz697YPLGyu"
      },
      "execution_count": 15,
      "outputs": []
    },
    {
      "cell_type": "code",
      "source": [
        "experiment_epsilon_greedy(2000,0.1)"
      ],
      "metadata": {
        "colab": {
          "base_uri": "https://localhost:8080/",
          "height": 394
        },
        "id": "jaNxm_7TfVQS",
        "outputId": "8675b0dc-4a2f-4332-a415-676d892baa64"
      },
      "execution_count": 6,
      "outputs": [
        {
          "output_type": "stream",
          "name": "stdout",
          "text": [
            "mean estimate  3.2101562679484377\n",
            "mean estimate  5.551940964267872\n",
            "mean estimate  9.946826353259754\n",
            "total reward earned: 19119.416076714526\n",
            "overal win rate  9.559708038357263\n",
            "num time explored : 229\n",
            "num time exploit: 1771\n"
          ]
        },
        {
          "output_type": "display_data",
          "data": {
            "image/png": "[encoded data removed]",
            "text/plain": [
              "<Figure size 432x288 with 1 Axes>"
            ]
          },
          "metadata": {
            "needs_background": "light"
          }
        }
      ]
    },
    {
      "cell_type": "code",
      "source": [
        "def experiment_UCB(n,confidence_level):\n",
        "  #n:number of trials that we want the experiment will run\n",
        "  num_trials=n\n",
        "  #our machines has mu=3,6,10 sigma=2,bandit init \n",
        "  bandits=[bandit(3,2),bandit(6,2),bandit(10,2)]\n",
        "  rewards=np.zeros(num_trials)\n",
        "  num_times_explored=0\n",
        "  num_times_exploited=0\n",
        "  num_optimal=0\n",
        "  #optimal_j=np.argmax([bandit.mu for bandit in bandits])\n",
        "  #print('optimal_j:' , optimal_j)\n",
        "  for i in range(num_trials):\n",
        "    j=np.argmax([((b.p_estimate)+confidence_level * (np.sqrt(np.log(i) / b.n))) for b in bandits])\n",
        "    #if j ==optimal_j:\n",
        "      #num_optimal+=1\n",
        "    x=bandits[j].pull()\n",
        "    rewards[i]=x\n",
        "    bandits[j].update(x)\n",
        "  for b in bandits:\n",
        "    print('mean estimate ',b.p_estimate)\n",
        "  print('total reward earned:',rewards.sum())\n",
        "  print('overal win rate ',rewards.sum()/num_trials)\n",
        "  print('num time explored :',num_times_explored)\n",
        "  print('num time exploit:',num_times_exploited)\n",
        "\n",
        "  cumulative_rewards=np.cumsum(rewards)\n",
        "  win_rate=(cumulative_rewards/(np.arange(num_trials)+1))\n",
        "  plt.plot(win_rate)\n",
        "  #plt.plot(np.ones(num_trials)*np.max(bandit_prob))\n",
        "  plt.show()"
      ],
      "metadata": {
        "id": "Vjiqo44pd1TZ"
      },
      "execution_count": 16,
      "outputs": []
    },
    {
      "cell_type": "code",
      "source": [
        "experiment_UCB(2000,5)"
      ],
      "metadata": {
        "colab": {
          "base_uri": "https://localhost:8080/",
          "height": 542
        },
        "id": "NatVKfnzg-z9",
        "outputId": "ae7ec27f-471a-4306-b3d6-89070485180c"
      },
      "execution_count": 18,
      "outputs": [
        {
          "output_type": "stream",
          "name": "stderr",
          "text": [
            "/usr/local/lib/python3.7/dist-packages/ipykernel_launcher.py:13: RuntimeWarning: divide by zero encountered in log\n",
            "  del sys.path[0]\n",
            "/usr/local/lib/python3.7/dist-packages/ipykernel_launcher.py:13: RuntimeWarning: invalid value encountered in sqrt\n",
            "  del sys.path[0]\n",
            "/usr/local/lib/python3.7/dist-packages/ipykernel_launcher.py:13: RuntimeWarning: invalid value encountered in double_scalars\n",
            "  del sys.path[0]\n",
            "/usr/local/lib/python3.7/dist-packages/ipykernel_launcher.py:13: RuntimeWarning: divide by zero encountered in double_scalars\n",
            "  del sys.path[0]\n"
          ]
        },
        {
          "output_type": "stream",
          "name": "stdout",
          "text": [
            "mean estimate  3.196590682377662\n",
            "mean estimate  4.881681765576979\n",
            "mean estimate  9.99016453710113\n",
            "total reward earned: 19917.395399382705\n",
            "overal win rate  9.958697699691353\n",
            "num time explored : 0\n",
            "num time exploit: 0\n"
          ]
        },
        {
          "output_type": "display_data",
          "data": {
            "image/png": "[encoded data removed]",
            "text/plain": [
              "<Figure size 432x288 with 1 Axes>"
            ]
          },
          "metadata": {
            "needs_background": "light"
          }
        }
      ]
    }
  ]
}